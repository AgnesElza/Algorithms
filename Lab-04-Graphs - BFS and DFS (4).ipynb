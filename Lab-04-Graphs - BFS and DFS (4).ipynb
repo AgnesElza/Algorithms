{
 "cells": [
  {
   "cell_type": "markdown",
   "metadata": {},
   "source": [
    "#### Graphs - BFS, DFS\n",
    "\n",
    "In this assignment, we will define a Graph datastructure and implement the basic graph search algorithms."
   ]
  },
  {
   "cell_type": "markdown",
   "metadata": {},
   "source": [
    "## The Graph Class\n",
    "\n",
    "Here we define the Graph class. Internally, we represent the graph using adjacency lists. Corresponding to each vertex $u$, we keep a list of tuples $(v, k)$, where $v$ is a neighbor of $u$ and $k$ is the weight of the edge $(u, v)$. To initialize the graph, we pass a list of tuples $(u, v, k)$."
   ]
  },
  {
   "cell_type": "code",
   "execution_count": 1,
   "metadata": {},
   "outputs": [],
   "source": [
    "class Graph:\n",
    "    def __init__(self, edges, directed=False):\n",
    "        self.adj_list = {}\n",
    "        self.directed = directed\n",
    "        \n",
    "        for u, v, k in edges:\n",
    "            self.add_edge(u, v, k)\n",
    "            \n",
    "    def _add_edge_single(self, u, v, k):\n",
    "        \"\"\"Internal function. Do not use directly.\n",
    "        Add a single edge to the graph.\n",
    "        \"\"\"\n",
    "        if u not in self.adj_list:\n",
    "            self.adj_list[u] = []\n",
    "        self.adj_list[u].append((v, k))        \n",
    "                \n",
    "    def add_edge(self, u, v, k):\n",
    "        \"\"\"Add an edge to the graph. Add the reverse edge \n",
    "        when the graph is undirected.\"\"\"\n",
    "        self._add_edge_single(u, v, k)\n",
    "        if not self.directed:\n",
    "            self._add_edge_single(v, u, k)\n",
    "    \n",
    "    def neighbors(self, u):\n",
    "        \"\"\"Return the list of neighbors and the \n",
    "        corresponding weights of u\"\"\"\n",
    "        return self.adj_list[u]\n",
    "    \n",
    "    \n",
    "    def vertices(self):\n",
    "        \"\"\"Return the set of vertices of the graph\"\"\"\n",
    "        return self.adj_list.keys()\n",
    "    \n",
    "    "
   ]
  },
  {
   "cell_type": "code",
   "execution_count": 2,
   "metadata": {},
   "outputs": [],
   "source": [
    "g = Graph([(\"u\", \"v\", 1), (\"v\", \"w\", 2)])\n",
    "g.add_edge(\"w\", \"x\", 5)"
   ]
  },
  {
   "cell_type": "code",
   "execution_count": 3,
   "metadata": {},
   "outputs": [
    {
     "name": "stdout",
     "output_type": "stream",
     "text": [
      "[('u', 1), ('w', 2)]\n"
     ]
    }
   ],
   "source": [
    "print(g.neighbors(\"v\"))"
   ]
  },
  {
   "cell_type": "code",
   "execution_count": 4,
   "metadata": {},
   "outputs": [
    {
     "name": "stdout",
     "output_type": "stream",
     "text": [
      "Vertices: \n",
      "u\n",
      "v\n",
      "w\n",
      "x\n"
     ]
    }
   ],
   "source": [
    "print(\"Vertices: \")\n",
    "for v in g.vertices():\n",
    "    print(v)"
   ]
  },
  {
   "cell_type": "markdown",
   "metadata": {},
   "source": [
    "## Data structure for BFS and DFS Results"
   ]
  },
  {
   "cell_type": "code",
   "execution_count": 5,
   "metadata": {},
   "outputs": [],
   "source": [
    "class Visit:\n",
    "    def __init__(self, node, parent, discover, finish=None):\n",
    "        self.node = node\n",
    "        self.parent = parent\n",
    "        self.discover = discover\n",
    "        self.finish = finish"
   ]
  },
  {
   "cell_type": "markdown",
   "metadata": {},
   "source": [
    "## BFS\n",
    "\n",
    "Implement BFS using the above graph class. The BFS function will get two arguments: the first argument will be an object of the graph class. The second argument will be a node in the graph. The function should return a list of the parents and depths of each node using the above datastructure.\n"
   ]
  },
  {
   "cell_type": "code",
   "execution_count": 14,
   "metadata": {},
   "outputs": [],
   "source": [
    "def bfs(graph, node):\n",
    "    #print(node)\n",
    "    vs = Visit(node,None,0,None)\n",
    "    queue =[]\n",
    "    visited =[]\n",
    "    final =[]\n",
    "    visited.append(vs.node)\n",
    "    queue.append(vs)\n",
    "    final.append(vs)\n",
    "    while queue:\n",
    "        u = queue.pop(0)\n",
    "\n",
    "        for k,v in graph.neighbors(u.node):\n",
    "            if k not in visited:\n",
    "\n",
    "                vi = Visit(k,u.node,u.discover+v)\n",
    "                queue.append(vi)\n",
    "                visited.append(vi.node)\n",
    "                final.append(vi)\n",
    "    #print(final)\n",
    "    return(final)"
   ]
  },
  {
   "cell_type": "code",
   "execution_count": 15,
   "metadata": {},
   "outputs": [
    {
     "name": "stdout",
     "output_type": "stream",
     "text": [
      "s\n",
      "[<__main__.Visit object at 0x0000004CC0099630>, <__main__.Visit object at 0x0000004CC00994A8>, <__main__.Visit object at 0x0000004CC00994E0>, <__main__.Visit object at 0x0000004CC0099550>, <__main__.Visit object at 0x0000004CC00995F8>, <__main__.Visit object at 0x0000004CC00997F0>, <__main__.Visit object at 0x0000004CC0099828>, <__main__.Visit object at 0x0000004CC0099860>]\n"
     ]
    }
   ],
   "source": [
    "\n",
    "g = Graph([(\"r\", \"s\", 1), (\"r\", \"v\", 1), (\"s\", \"w\", 1), (\"w\", \"t\", 1), (\"w\", \"x\", 1), (\"t\", \"x\", 1), (\"t\", \"u\", 1), (\"x\", \"u\", 1), (\"x\", \"y\", 1), (\"y\", \"u\", 1)])\n",
    "\n",
    "h = {}\n",
    "for visit in bfs(g, \"s\"):\n",
    "    h[visit.node] = visit\n",
    "    \n",
    "assert h[\"s\"].parent == None\n",
    "assert h[\"s\"].discover == 0\n",
    "assert h[\"w\"].parent == \"s\"\n",
    "assert h[\"w\"].discover == 1\n",
    "assert h[\"r\"].parent == \"s\"\n",
    "assert h[\"r\"].discover == 1\n",
    "assert h[\"t\"].parent == \"w\"\n",
    "assert h[\"t\"].discover == 2\n",
    "assert h[\"x\"].parent == \"w\"\n",
    "assert h[\"x\"].discover == 2\n",
    "assert h[\"v\"].parent == \"r\"\n",
    "assert h[\"v\"].discover == 2\n",
    "assert h[\"u\"].parent == \"t\"\n",
    "assert h[\"u\"].discover == 3\n",
    "assert h[\"y\"].parent == \"x\"\n",
    "assert h[\"y\"].discover == 3"
   ]
  },
  {
   "cell_type": "markdown",
   "metadata": {},
   "source": [
    "## DFS\n",
    "Similarly to the BFS function, implement DFS. Return the list of Visit objects with parents, discover and finish times."
   ]
  },
  {
   "cell_type": "code",
   "execution_count": 8,
   "metadata": {},
   "outputs": [],
   "source": [
    "time =0\n",
    "visited=[]\n",
    "final=[]\n",
    "\n",
    "def dfs_visit(g,u):\n",
    "    global time\n",
    "    global visited\n",
    "    global final\n",
    "    \n",
    "    time +=1\n",
    "    u.discover = time\n",
    "    for k,j in g.neighbors(u.node):\n",
    "        #print(visited)\n",
    "        \n",
    "        if k not in visited:\n",
    "            v= Visit(k,u.node,None, None)\n",
    "            visited.append(v.node)\n",
    "            dfs_visit(g , v)\n",
    "            \n",
    "    time+=1\n",
    "    u.finish = time\n",
    "    final.append(u)\n",
    "\n",
    "\n",
    "\n",
    "def dfs(g, s):\n",
    "    global final\n",
    "    global visited\n",
    "    node = Visit(node, None, 0,0)\n",
    "    visited.append(s.node)\n",
    "    dfs_visit(g,s)\n",
    "    for u in g.vertices():\n",
    "        if u not in visited:\n",
    "            u= Visit(u, None, 0,0)\n",
    "            visited.append(u.node)\n",
    "            dfs_visit(g,u)\n",
    "    #for i in final:\n",
    "        #print(i.node,\":\",i.discover, \",\",i.finish)\n",
    "    return final\n",
    "            \n",
    "    \n",
    "    "
   ]
  },
  {
   "cell_type": "code",
   "execution_count": 9,
   "metadata": {},
   "outputs": [
    {
     "name": "stdout",
     "output_type": "stream",
     "text": [
      "u\n",
      "x\n",
      "v\n",
      "y\n",
      "w\n",
      "z\n"
     ]
    }
   ],
   "source": [
    "# Test\n",
    "\n",
    "g = Graph([(\"u\", \"x\", 1), (\"u\", \"v\", 1), (\"x\", \"v\", 1), (\"v\", \"y\", 1), (\"y\", \"x\", 1), (\"w\", \"y\", 1), (\"w\", \"z\", 1), (\"z\", \"z\", 1)], directed=True)\n",
    "\n",
    "h = {}\n",
    "for visit in dfs(g, \"u\"):\n",
    "    h[visit.node] = visit\n",
    "for v in g.vertices():\n",
    "    print(v)\n",
    "assert h[\"u\"].parent == None\n",
    "assert h[\"u\"].discover == 1\n",
    "assert h[\"u\"].finish == 8\n",
    "\n",
    "assert h[\"v\"].parent == \"x\"\n",
    "assert h[\"v\"].discover == 3\n",
    "assert h[\"v\"].finish == 6\n",
    "\n",
    "assert h[\"y\"].parent == \"v\"\n",
    "assert h[\"y\"].discover == 4\n",
    "assert h[\"y\"].finish == 5\n",
    "\n",
    "assert h[\"x\"].parent == \"u\"\n",
    "assert h[\"x\"].discover == 2\n",
    "assert h[\"x\"].finish == 7"
   ]
  },
  {
   "cell_type": "code",
   "execution_count": null,
   "metadata": {},
   "outputs": [],
   "source": []
  },
  {
   "cell_type": "code",
   "execution_count": null,
   "metadata": {},
   "outputs": [],
   "source": []
  }
 ],
 "metadata": {
  "kernelspec": {
   "display_name": "Python 3",
   "language": "python",
   "name": "python3"
  },
  "language_info": {
   "codemirror_mode": {
    "name": "ipython",
    "version": 3
   },
   "file_extension": ".py",
   "mimetype": "text/x-python",
   "name": "python",
   "nbconvert_exporter": "python",
   "pygments_lexer": "ipython3",
   "version": "3.6.5"
  }
 },
 "nbformat": 4,
 "nbformat_minor": 2
}
