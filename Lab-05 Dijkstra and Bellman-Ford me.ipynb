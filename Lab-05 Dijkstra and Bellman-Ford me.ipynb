{
 "cells": [
  {
   "cell_type": "markdown",
   "metadata": {},
   "source": [
    "# Dijkstra and Bellman-Ford\n",
    "\n",
    "\n",
    "This assignment is for implementing two single-source shortest paths algorithms: Dijkstra's and Bellman-Ford."
   ]
  },
  {
   "cell_type": "markdown",
   "metadata": {},
   "source": [
    "## The Graph Class\n",
    "\n",
    "The class used for inputting graphs is given below:"
   ]
  },
  {
   "cell_type": "code",
   "execution_count": 50,
   "metadata": {},
   "outputs": [],
   "source": [
    "class Graph:\n",
    "    def __init__(self, edges, directed=False):\n",
    "        self.adj_list = {}\n",
    "        self.directed = directed\n",
    "        \n",
    "        for u, v, k in edges:\n",
    "            self.add_edge(u, v, k)\n",
    "            \n",
    "    def _add_edge_single(self, u, v, k):\n",
    "        \"\"\"Internal function. Do not use directly.\n",
    "        Add a single edge to the graph.\n",
    "        \"\"\"\n",
    "        if u not in self.adj_list:\n",
    "            self.adj_list[u] = []\n",
    "        self.adj_list[u].append((v, k))        \n",
    "                \n",
    "    def add_edge(self, u, v, k):\n",
    "        \"\"\"Add an edge to the graph. Add the reverse edge \n",
    "        when the graph is undirected.\"\"\"\n",
    "        self._add_edge_single(u, v, k)\n",
    "        if not self.directed:\n",
    "            self._add_edge_single(v, u, k)\n",
    "    \n",
    "    def neighbors(self, u):\n",
    "        \"\"\"Return the list of neighbors and the \n",
    "        corresponding weights of u\"\"\"\n",
    "        return self.adj_list[u]\n",
    "    \n",
    "    \n",
    "    def vertices(self):\n",
    "        \"\"\"Return the set of vertices of the graph\"\"\"\n",
    "        return self.adj_list.keys()\n",
    "    \n",
    "    "
   ]
  },
  {
   "cell_type": "markdown",
   "metadata": {},
   "source": [
    "## The Output Class\n",
    "\n",
    "For output, we will use a class for storing paths and weights."
   ]
  },
  {
   "cell_type": "code",
   "execution_count": 51,
   "metadata": {},
   "outputs": [],
   "source": [
    "class PathWeight:\n",
    "    def __init__(self, node, parent, weight):\n",
    "        self.node = node     # node's name.\n",
    "        self.parent = parent # parent node's PathWeight object.\n",
    "        self.weight = weight"
   ]
  },
  {
   "cell_type": "markdown",
   "metadata": {},
   "source": [
    "The output should be a dictionary which maps a node to its PathWeight object."
   ]
  },
  {
   "cell_type": "markdown",
   "metadata": {},
   "source": [
    "## Dijkstra's Algorithm\n",
    "\n",
    "Implement the dijkstra's shortest-paths algorithm as follows."
   ]
  },
  {
   "cell_type": "code",
   "execution_count": 63,
   "metadata": {},
   "outputs": [],
   "source": [
    "# Add any necessary classes (e.g., the PriorityQueue classes.)\n",
    "    #creating list of vertices and explored list\n",
    "# q={}\n",
    "\n",
    "def mn(dict):\n",
    "    l=[]\n",
    "    for i in dict:\n",
    "        l.append((i,dict[i].weight))\n",
    "    print(l)\n",
    "    mi=min(l, key = lambda x: x[1])\n",
    "    #print(\"mmmm\",mi)\n",
    "    return mi[0]\n",
    "def dijkstra(g,s):\n",
    "    All_v = {}\n",
    "    final={}\n",
    "    for i in g.vertices():\n",
    "        All_v[i]=PathWeight(i,None,float('inf'))\n",
    "    All_v[s]=PathWeight(s,None,0)\n",
    "    print(All_v)\n",
    "    while All_v:\n",
    "        m=mn(All_v)\n",
    "        val=All_v.pop(m)\n",
    "        #print(val,\"val\")\n",
    "        final[m]=val  \n",
    "        print(m,g.neighbors(m))\n",
    "        for k,v in g.neighbors(m):\n",
    "            if k in All_v:\n",
    "                node=All_v[k]\n",
    "                parent=final[m]\n",
    "                if(node.weight>parent.weight+v):\n",
    "                    node.weight=parent.weight+v\n",
    "                    node.parent=parent\n",
    "    print(final)\n",
    "    return final\n",
    "\n",
    "                \n",
    "        \n",
    "        \n",
    "\n",
    "    "
   ]
  },
  {
   "cell_type": "code",
   "execution_count": 64,
   "metadata": {},
   "outputs": [
    {
     "name": "stdout",
     "output_type": "stream",
     "text": [
      "{0: <__main__.PathWeight object at 0x000000D1B0FD6CC0>, 1: <__main__.PathWeight object at 0x000000D1B0FD6DD8>, 2: <__main__.PathWeight object at 0x000000D1B0FD6E10>, 3: <__main__.PathWeight object at 0x000000D1B0FD6DA0>, 4: <__main__.PathWeight object at 0x000000D1B0FD6C88>}\n",
      "[(0, 0), (1, inf), (2, inf), (3, inf), (4, inf)]\n",
      "0 [(1, 10), (4, 5)]\n",
      "[(1, 10), (2, inf), (3, inf), (4, 5)]\n",
      "4 [(1, 3), (2, 9), (3, 2)]\n",
      "[(1, 8), (2, 14), (3, 7)]\n",
      "3 [(2, 6), (0, 7)]\n",
      "[(1, 8), (2, 13)]\n",
      "1 [(2, 1), (4, 2)]\n",
      "[(2, 9)]\n",
      "2 [(3, 4)]\n",
      "{0: <__main__.PathWeight object at 0x000000D1B0FD6CC0>, 4: <__main__.PathWeight object at 0x000000D1B0FD6C88>, 3: <__main__.PathWeight object at 0x000000D1B0FD6DA0>, 1: <__main__.PathWeight object at 0x000000D1B0FD6DD8>, 2: <__main__.PathWeight object at 0x000000D1B0FD6E10>}\n"
     ]
    },
    {
     "data": {
      "text/plain": [
       "{0: <__main__.PathWeight at 0xd1b0fd6cc0>,\n",
       " 4: <__main__.PathWeight at 0xd1b0fd6c88>,\n",
       " 3: <__main__.PathWeight at 0xd1b0fd6da0>,\n",
       " 1: <__main__.PathWeight at 0xd1b0fd6dd8>,\n",
       " 2: <__main__.PathWeight at 0xd1b0fd6e10>}"
      ]
     },
     "execution_count": 64,
     "metadata": {},
     "output_type": "execute_result"
    }
   ],
   "source": [
    "graph = Graph( [(0, 1, 10), (0, 4, 5), (1, 2, 1), (1, 4, 2), (2, 3, 4), (3, 2, 6), (3, 0, 7), (4, 1, 3), (4, 2, 9), (4, 3, 2)], directed=True )\n",
    "dijkstra(graph,0)"
   ]
  },
  {
   "cell_type": "code",
   "execution_count": 65,
   "metadata": {},
   "outputs": [
    {
     "name": "stdout",
     "output_type": "stream",
     "text": [
      "{0: <__main__.PathWeight object at 0x000000D1B0FC8128>, 1: <__main__.PathWeight object at 0x000000D1B0FC8048>, 2: <__main__.PathWeight object at 0x000000D1B0FC8080>, 3: <__main__.PathWeight object at 0x000000D1B0FC80B8>, 4: <__main__.PathWeight object at 0x000000D1B0FC80F0>}\n",
      "[(0, 0), (1, inf), (2, inf), (3, inf), (4, inf)]\n",
      "0 [(1, 10), (4, 5)]\n",
      "[(1, 10), (2, inf), (3, inf), (4, 5)]\n",
      "4 [(1, 3), (2, 9), (3, 2)]\n",
      "[(1, 8), (2, 14), (3, 7)]\n",
      "3 [(2, 6), (0, 7)]\n",
      "[(1, 8), (2, 13)]\n",
      "1 [(2, 1), (4, 2)]\n",
      "[(2, 9)]\n",
      "2 [(3, 4)]\n",
      "{0: <__main__.PathWeight object at 0x000000D1B0FC8128>, 4: <__main__.PathWeight object at 0x000000D1B0FC80F0>, 3: <__main__.PathWeight object at 0x000000D1B0FC80B8>, 1: <__main__.PathWeight object at 0x000000D1B0FC8048>, 2: <__main__.PathWeight object at 0x000000D1B0FC8080>}\n"
     ]
    }
   ],
   "source": [
    "# Test\n",
    "graph = Graph( [(0, 1, 10), (0, 4, 5), (1, 2, 1), (1, 4, 2), (2, 3, 4), (3, 2, 6), (3, 0, 7), (4, 1, 3), (4, 2, 9), (4, 3, 2)], directed=True )\n",
    "h = dijkstra(graph, 0)\n",
    "assert h[0].weight== 0\n",
    "assert h[1].weight == 8\n",
    "assert h[2].weight == 9\n",
    "assert h[3].weight == 7\n",
    "assert h[4].weight == 5\n",
    "\n",
    "assert (h[1].parent).node == 4\n",
    "assert (h[2].parent).node == 1\n",
    "assert (h[3].parent).node == 4\n",
    "assert (h[4].parent).node == 0"
   ]
  },
  {
   "cell_type": "markdown",
   "metadata": {},
   "source": [
    "## Bellman-Ford Algorithm\n",
    "\n",
    "Next, we will implement the Bellman-Ford algorithm.\n"
   ]
  },
  {
   "cell_type": "code",
   "execution_count": null,
   "metadata": {},
   "outputs": [],
   "source": [
    "#Not using pathweight\n",
    "def bellman_ford(graph, s):\n",
    "    All_v={}\n",
    "    for i in graph.vertices():#initializing all vertices\n",
    "        All_v[i]=float('inf')\n",
    "        All_v[s]=0\n",
    "    #print(All_v) \n",
    "    n=len(graph.vertices())\n",
    "    m=n-1\n",
    "    #print(graph.adj_list)\n",
    "    while(m>=1):\n",
    "        for i in graph.vertices():\n",
    "            for k, v in graph.adj_list[i]:\n",
    "                #print (k,i,v)\n",
    "                p=PathWeight(k,i,v)\n",
    "                All_v[p.node]=min(All_v[p.node],All_v[p.parent]+p.weight)\n",
    "                #print(All_v[p.node])\n",
    "        m=m-1\n",
    "    #print(All_v)\n",
    "    for i in graph.vertices():\n",
    "        for k, v in graph.adj_list[i]:\n",
    "                \n",
    "            p=PathWeight(k,i,v)\n",
    "            if(All_v[p.node]>All_v[p.parent]+p.weight):\n",
    "                return False \n",
    " \n",
    "    return All_v      \n",
    "        \n",
    "            \n",
    "        \n",
    "        \n",
    "    \n",
    "        "
   ]
  },
  {
   "cell_type": "code",
   "execution_count": null,
   "metadata": {},
   "outputs": [],
   "source": [
    "# graph = Graph( [(0, 1, 10), (0, 4, 5), (1, 2, 1), (1, 4, 2), (2, 3, 4), (3, 2, 6), (3, 0, 7), (4, 1, 3), (4, 2, 9), (4, 3, 2)], directed=True )\n",
    "# h = bellman_ford(graph, 0)\n",
    "# \n",
    "graph = Graph( [(0, 1, 6), (0, 4, 7), (1, 2, 5), (1, 4, 8), (1, 3, -4), (2, 1, -2), (3, 0, 2), (3, 2, 7), (4, 2, -3), (4, 3, 9)], directed=True )\n",
    "h = bellman_ford(graph, 0)"
   ]
  },
  {
   "cell_type": "code",
   "execution_count": 66,
   "metadata": {},
   "outputs": [],
   "source": [
    "#Using pathweight\n",
    "def bellman_ford(graph, s):\n",
    "    All_v={}\n",
    "    for i in graph.vertices():\n",
    "        All_v[i]= PathWeight(i,None,float('inf'))\n",
    "        All_v[s]=PathWeight(s,None,0)\n",
    "    #print(All_v) \n",
    "    n=len(graph.vertices()) \n",
    "    m=n-1\n",
    "    #print(graph.adj_list)\n",
    "    while(m>=1):\n",
    "        for j in graph.vertices():\n",
    "            for k, v in graph.adj_list[j]:\n",
    "                node=All_v[k]\n",
    "                parent=All_v[j]\n",
    "                if(node.weight>parent.weight+v):\n",
    "                    node.weight=parent.weight+v\n",
    "                    node.parent=parent\n",
    "        m=m-1   \n",
    "   \n",
    "\n",
    "    for j in graph.vertices():\n",
    "        for k, v in graph.adj_list[j]:\n",
    "            node=All_v[k]\n",
    "            parent=All_v[j]\n",
    "            if(node.weight>parent.weight+v):\n",
    "                return False\n",
    "\n",
    "    return All_v\n",
    "    #print(All_v)        \n",
    "    \n",
    "            "
   ]
  },
  {
   "cell_type": "code",
   "execution_count": 67,
   "metadata": {},
   "outputs": [],
   "source": [
    "# Test\n",
    "\n",
    "graph = Graph( [(0, 1, 10), (0, 4, 5), (1, 2, 1), (1, 4, 2), (2, 3, 4), (3, 2, 6), (3, 0, 7), (4, 1, 3), (4, 2, 9), (4, 3, 2)], directed=True )\n",
    "h = bellman_ford(graph, 0)\n",
    "assert h[0].weight == 0\n",
    "assert h[1].weight == 8\n",
    "assert h[2].weight == 9\n",
    "assert h[3].weight == 7\n",
    "assert h[4].weight == 5\n",
    "\n",
    "assert (h[1].parent).node == 4\n",
    "assert (h[2].parent).node == 1\n",
    "assert (h[3].parent).node == 4\n",
    "assert (h[4].parent).node == 0\n",
    "\n",
    "graph = Graph( [(0, 1, 6), (0, 4, 7), (1, 2, 5), (1, 4, 8), (1, 3, -4), (2, 1, -2), (3, 0, 2), (3, 2, 7), (4, 2, -3), (4, 3, 9)], directed=True )\n",
    "h = bellman_ford(graph, 0)\n",
    "assert h[0].weight == 0\n",
    "assert h[1].weight == 2\n",
    "assert h[2].weight == 4\n",
    "assert h[3].weight == -2\n",
    "assert h[4].weight == 7\n",
    "\n",
    "assert (h[1].parent).node == 2\n",
    "assert (h[2].parent).node == 4\n",
    "assert (h[3].parent).node == 1\n",
    "assert (h[4].parent).node == 0\n"
   ]
  },
  {
   "cell_type": "code",
   "execution_count": null,
   "metadata": {},
   "outputs": [],
   "source": []
  },
  {
   "cell_type": "code",
   "execution_count": null,
   "metadata": {},
   "outputs": [],
   "source": []
  }
 ],
 "metadata": {
  "kernelspec": {
   "display_name": "Python 3",
   "language": "python",
   "name": "python3"
  },
  "language_info": {
   "codemirror_mode": {
    "name": "ipython",
    "version": 3
   },
   "file_extension": ".py",
   "mimetype": "text/x-python",
   "name": "python",
   "nbconvert_exporter": "python",
   "pygments_lexer": "ipython3",
   "version": "3.6.5"
  }
 },
 "nbformat": 4,
 "nbformat_minor": 2
}
